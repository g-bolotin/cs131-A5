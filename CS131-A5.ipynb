{
 "cells": [
  {
   "cell_type": "code",
   "execution_count": 1,
   "id": "e2a82581-f394-4a73-b5e2-6f69af16ea52",
   "metadata": {},
   "outputs": [],
   "source": [
    "import findspark\n",
    "findspark.init()\n",
    "from pyspark.sql import SparkSession\n",
    "from pyspark.ml.feature import VectorAssembler\n",
    "from pyspark.ml import Pipeline\n",
    "from pyspark.ml.evaluation import RegressionEvaluator\n",
    "from pyspark.ml.regression import DecisionTreeRegressor\n",
    "from pyspark.ml.feature import VectorIndexer\n",
    "from pyspark.sql.functions import col\n",
    "from pyspark.sql.types import DoubleType"
   ]
  },
  {
   "cell_type": "code",
   "execution_count": 6,
   "id": "bb958840-6567-4be5-90b4-a541b0e16b2e",
   "metadata": {},
   "outputs": [],
   "source": [
    "path = \"student_lifestyle_dataset.csv\""
   ]
  },
  {
   "cell_type": "code",
   "execution_count": 7,
   "id": "6db07235-0c42-40f4-bf64-8d3071fcde2a",
   "metadata": {},
   "outputs": [
    {
     "name": "stdout",
     "output_type": "stream",
     "text": [
      "+----------+-------------------+-----------------------------+-------------------+------+\n",
      "|Student_ID|Study_Hours_Per_Day|Extracurricular_Hours_Per_Day|Sleep_Hours_Per_Day|Grades|\n",
      "+----------+-------------------+-----------------------------+-------------------+------+\n",
      "|         1|                6.9|                          3.8|                8.7|  7.48|\n",
      "|         2|                5.3|                          3.5|                8.0|  6.88|\n",
      "|         3|                5.1|                          3.9|                9.2|  6.68|\n",
      "|         4|                6.5|                          2.1|                7.2|   7.2|\n",
      "|         5|                8.1|                          0.6|                6.5|  8.78|\n",
      "+----------+-------------------+-----------------------------+-------------------+------+\n",
      "only showing top 5 rows\n",
      "\n"
     ]
    }
   ],
   "source": [
    "spark = SparkSession.builder.appName(\"A5\").getOrCreate()\n",
    "df = spark.read.csv(path, header=True, inferSchema=True)\n",
    "# Columns Available:\n",
    "#    Student_ID\n",
    "#    Study_Hours_Per_Day\n",
    "#    Extracurricular_Hours_Per_Day\n",
    "#    Sleep_Hours_Per_Day\n",
    "#    Social_Hours_Per_Day\n",
    "#    Physical_Activity_Hours_Per_Day\n",
    "#    Stress_Level\n",
    "#    Gender\n",
    "#    Grades\n",
    "df.select(\"Student_ID\", \"Study_Hours_Per_Day\", \"Extracurricular_Hours_Per_Day\", \"Sleep_Hours_Per_Day\", \"Grades\").show(5)"
   ]
  },
  {
   "cell_type": "code",
   "execution_count": null,
   "id": "c65eef48-0f71-4f76-8886-1d53131a76d7",
   "metadata": {},
   "outputs": [],
   "source": []
  }
 ],
 "metadata": {
  "kernelspec": {
   "display_name": "Python 3 (ipykernel)",
   "language": "python",
   "name": "python3"
  },
  "language_info": {
   "codemirror_mode": {
    "name": "ipython",
    "version": 3
   },
   "file_extension": ".py",
   "mimetype": "text/x-python",
   "name": "python",
   "nbconvert_exporter": "python",
   "pygments_lexer": "ipython3",
   "version": "3.12.4"
  }
 },
 "nbformat": 4,
 "nbformat_minor": 5
}
